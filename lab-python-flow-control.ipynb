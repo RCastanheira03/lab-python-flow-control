{
 "cells": [
  {
   "cell_type": "markdown",
   "id": "d3bfc191-8885-42ee-b0a0-bbab867c6f9f",
   "metadata": {
    "tags": []
   },
   "source": [
    "# Lab | Flow Control"
   ]
  },
  {
   "cell_type": "markdown",
   "id": "3851fcd1-cf98-4653-9c89-e003b7ec9400",
   "metadata": {},
   "source": [
    "## Exercise: Managing Customer Orders Optimized\n",
    "\n",
    "In the last lab, you were starting an online store that sells various products. To ensure smooth operations, you developed a program that manages customer orders and inventory.\n",
    "\n",
    "You did so without using flow control. Let's go a step further and improve this code.\n",
    "\n",
    "Follow the steps below to complete the exercise:\n",
    "\n",
    "1. Look at your code from the lab data structures, and improve repeated code with loops.\n",
    "\n",
    "2. Instead of asking the user to input the name of three products that a customer wants to order, do the following:\n",
    "    \n",
    "    a. Prompt the user to enter the name of a product that a customer wants to order.\n",
    "    \n",
    "    b. Add the product name to the \"customer_orders\" set.\n",
    "    \n",
    "    c. Ask the user if they want to add another product (yes/no).\n",
    "    \n",
    "    d. Continue the loop until the user does not want to add another product.\n",
    "\n",
    "3. Instead of updating the inventory by subtracting 1 from the quantity of each product, only do it for  the products that were ordered (those in \"customer_orders\")."
   ]
  },
  {
   "cell_type": "code",
   "execution_count": 49,
   "id": "1ae3db68-91c5-417d-8a3e-e7b4c205af69",
   "metadata": {},
   "outputs": [
    {
     "name": "stdin",
     "output_type": "stream",
     "text": [
      "What is the quantity of t-shirts?:  5\n",
      "What is the quantity of mugs?:  5\n",
      "What is the quantity of hats?:  5\n",
      "What is the quantity of books?:  5\n",
      "What is the quantity of keychains?:  5\n"
     ]
    }
   ],
   "source": [
    "products = [\"t-shirt\", \"mug\", \"hat\", \"book\", \"keychain\"]\n",
    "inventory = {}\n",
    "\n",
    "for product in products:\n",
    "    quantity = int(input(f\"What is the quantity of {product}s?: \"))\n",
    "    inventory[product] = quantity"
   ]
  },
  {
   "cell_type": "code",
   "execution_count": 50,
   "id": "bacbb87a-096a-4943-827a-5cb8cc619ce2",
   "metadata": {},
   "outputs": [
    {
     "name": "stdin",
     "output_type": "stream",
     "text": [
      "Enter the name of the product you would like to order:  t-shirt\n",
      "Do you want to add another product? Yes/No:  yes\n",
      "Enter the name of the product you would like to order:  mug\n",
      "Do you want to add another product? Yes/No:  No\n"
     ]
    },
    {
     "name": "stdout",
     "output_type": "stream",
     "text": [
      "Thank you!\n"
     ]
    }
   ],
   "source": [
    "customer_orders = set()\n",
    "\n",
    "order = input(\"Enter the name of the product you would like to order: \").lower()\n",
    "customer_orders.add(order)\n",
    "query = input(\"Do you want to add another product? Yes/No: \").lower()\n",
    "\n",
    "while query != \"no\":\n",
    "    if query == \"yes\":\n",
    "        order = input(\"Enter the name of the product you would like to order: \").lower()\n",
    "        customer_orders.add(order)\n",
    "        query = input(\"Do you want to add another product? Yes/No: \").lower()\n",
    "    else:\n",
    "        print(\"Invalid Input. Valid options are Yes or No.\")\n",
    "        query = input(\"Do you want to add another product? Yes/No: \").lower()\n",
    "\n",
    "print(\"Thank you!\")"
   ]
  },
  {
   "cell_type": "code",
   "execution_count": 51,
   "id": "37ce761a-f2f0-463d-b365-61590dcc7894",
   "metadata": {},
   "outputs": [
    {
     "name": "stdout",
     "output_type": "stream",
     "text": [
      "{'t-shirt': 4, 'mug': 4, 'hat': 5, 'book': 5, 'keychain': 5}\n"
     ]
    }
   ],
   "source": [
    "for order in customer_orders:\n",
    "    if order in inventory:\n",
    "        inventory[order] -= 1\n",
    "    \n",
    "print(inventory)"
   ]
  },
  {
   "cell_type": "code",
   "execution_count": 52,
   "id": "fd31744a-288b-49df-b4f8-949dca8d9a6e",
   "metadata": {},
   "outputs": [
    {
     "name": "stdin",
     "output_type": "stream",
     "text": [
      "What is the quantity of t-shirts?:  5\n",
      "What is the quantity of mugs?:  5\n",
      "What is the quantity of hats?:  5\n",
      "What is the quantity of books?:  5\n",
      "What is the quantity of keychains?:  5\n",
      "Enter the name of the product you would like to order:  t-shirt\n",
      "Do you want to add another product? Yes/No:  yes\n",
      "Enter the name of the product you would like to order:  mug\n",
      "Do you want to add another product? Yes/No:  no\n"
     ]
    },
    {
     "name": "stdout",
     "output_type": "stream",
     "text": [
      "Thank you!\n",
      "{'t-shirt': 4, 'mug': 4, 'hat': 5, 'book': 5, 'keychain': 5}\n"
     ]
    }
   ],
   "source": [
    "products = [\"t-shirt\", \"mug\", \"hat\", \"book\", \"keychain\"]\n",
    "inventory = {}\n",
    "\n",
    "for product in products:\n",
    "    quantity = int(input(f\"What is the quantity of {product}s?: \"))\n",
    "    inventory[product] = quantity\n",
    "\n",
    "customer_orders = set()\n",
    "\n",
    "order = input(\"Enter the name of the product you would like to order: \").lower()\n",
    "customer_orders.add(order)\n",
    "query = input(\"Do you want to add another product? Yes/No: \").lower()\n",
    "\n",
    "while query != \"no\":\n",
    "    if query == \"yes\":\n",
    "        order = input(\"Enter the name of the product you would like to order: \").lower()\n",
    "        customer_orders.add(order)\n",
    "        query = input(\"Do you want to add another product? Yes/No: \").lower()\n",
    "    else:\n",
    "        print(\"Invalid Input. Valid options are Yes or No.\")\n",
    "        query = input(\"Do you want to add another product? Yes/No: \").lower()\n",
    "\n",
    "print(\"Thank you!\")\n",
    "\n",
    "for order in customer_orders:\n",
    "    if order in inventory:\n",
    "        inventory[order] -= 1\n",
    "    \n",
    "print(inventory)"
   ]
  },
  {
   "cell_type": "code",
   "execution_count": null,
   "id": "394e2777-a6c9-4f13-9dda-a0c674b76b13",
   "metadata": {},
   "outputs": [],
   "source": []
  }
 ],
 "metadata": {
  "kernelspec": {
   "display_name": "Python [conda env:base] *",
   "language": "python",
   "name": "conda-base-py"
  },
  "language_info": {
   "codemirror_mode": {
    "name": "ipython",
    "version": 3
   },
   "file_extension": ".py",
   "mimetype": "text/x-python",
   "name": "python",
   "nbconvert_exporter": "python",
   "pygments_lexer": "ipython3",
   "version": "3.13.5"
  }
 },
 "nbformat": 4,
 "nbformat_minor": 5
}
